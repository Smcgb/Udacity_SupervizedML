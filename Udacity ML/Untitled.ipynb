{
 "cells": [
  {
   "cell_type": "code",
   "execution_count": 11,
   "id": "a0d3f4a8-19b0-4b0d-966b-dd5a70bf94a8",
   "metadata": {},
   "outputs": [],
   "source": [
    "import requests\n",
    "import os\n",
    "from os import getcwd\n",
    "import pandas as pd"
   ]
  },
  {
   "cell_type": "code",
   "execution_count": 12,
   "id": "36072cd2-f708-4e8c-b467-431e02431570",
   "metadata": {},
   "outputs": [],
   "source": [
    "csv_list = ['https://raw.githubusercontent.com/udacity/DSND_Term1/master/projects/p1_charityml/census.csv',\n",
    "            'https://raw.githubusercontent.com/udacity/DSND_Term1/master/projects/p1_charityml/example_submission.csv',\n",
    "           'https://raw.githubusercontent.com/udacity/DSND_Term1/master/projects/p1_charityml/test_census.csv'\n",
    "           ]\n",
    "\n",
    "url_list = ['https://raw.githubusercontent.com/udacity/DSND_Term1/master/projects/p1_charityml/finding_donors.ipynb',\n",
    "           'https://raw.githubusercontent.com/udacity/DSND_Term1/master/projects/p1_charityml/visuals.py']\n",
    "\n"
   ]
  },
  {
   "cell_type": "code",
   "execution_count": 18,
   "id": "97dcfd2b-ec68-4d9b-bf5f-60c1626a590a",
   "metadata": {},
   "outputs": [
    {
     "name": "stdout",
     "output_type": "stream",
     "text": [
      "https://raw.githubusercontent.com/udacity/DSND_Term1/master/projects/p1_charityml/census.csv\n",
      "https://raw.githubusercontent.com/udacity/DSND_Term1/master/projects/p1_charityml/finding_donors.ipynb\n",
      "https://raw.githubusercontent.com/udacity/DSND_Term1/master/projects/p1_charityml/test_census.csv\n"
     ]
    }
   ],
   "source": [
    "census_df = pd.read_csv[csv_list[0]]\n",
    "\n",
    "    \n",
    "    \n"
   ]
  },
  {
   "cell_type": "code",
   "execution_count": null,
   "id": "54e32341-8012-47de-af32-f17fabd0ddb7",
   "metadata": {},
   "outputs": [],
   "source": []
  }
 ],
 "metadata": {
  "kernelspec": {
   "display_name": "Python 3 (ipykernel)",
   "language": "python",
   "name": "python3"
  },
  "language_info": {
   "codemirror_mode": {
    "name": "ipython",
    "version": 3
   },
   "file_extension": ".py",
   "mimetype": "text/x-python",
   "name": "python",
   "nbconvert_exporter": "python",
   "pygments_lexer": "ipython3",
   "version": "3.8.12"
  }
 },
 "nbformat": 4,
 "nbformat_minor": 5
}
